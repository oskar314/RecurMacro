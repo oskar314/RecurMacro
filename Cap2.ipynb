{
 "cells": [
  {
   "cell_type": "markdown",
   "metadata": {},
   "source": [
    "# Capítulo 2: Time Series"
   ]
  },
  {
   "cell_type": "markdown",
   "metadata": {},
   "source": [
    "### Problema 1"
   ]
  },
  {
   "cell_type": "markdown",
   "metadata": {},
   "source": [
    "a) La función de verosimilitud vendría dada por:\n",
    "$$\\mathcal{L} = \\pi_{0,1} \\times P_{12} \\times P_{21} \\times P_{12} \\times P_{21}$$\n",
    "Reemplazando se obtiene:\n",
    "$$\\mathcal{L} = 0.5 \\times 0.1 \\times 0.3 \\times 0.1 \\times 0.3$$"
   ]
  },
  {
   "cell_type": "code",
   "execution_count": 59,
   "metadata": {},
   "outputs": [
    {
     "output_type": "execute_result",
     "data": {
      "text/plain": [
       "0.00045"
      ]
     },
     "metadata": {},
     "execution_count": 59
    }
   ],
   "source": [
    "L = 0.5 * 0.1 * 0.3 * 0.1 * 0.3;\n",
    "L"
   ]
  },
  {
   "cell_type": "markdown",
   "metadata": {},
   "source": [
    "b) La función de verosimilitud vendría dada por:\n",
    "$$\\mathcal{L} = \\pi_{0,1} \\times P_{11} \\times P_{11} \\times P_{11} \\times P_{11}$$\n",
    "Reemplazando se obtiene:\n",
    "$$\\mathcal{L} = 0.5 \\times 0.9^4$$"
   ]
  },
  {
   "cell_type": "code",
   "execution_count": 60,
   "metadata": {},
   "outputs": [
    {
     "output_type": "execute_result",
     "data": {
      "text/plain": [
       "0.32805000000000006"
      ]
     },
     "metadata": {},
     "execution_count": 60
    }
   ],
   "source": [
    "L = 0.5 * 0.9^4;\n",
    "L"
   ]
  },
  {
   "cell_type": "markdown",
   "metadata": {},
   "source": [
    "c) La función de verosimilitud vendría dada por:\n",
    "$$\\mathcal{L} = \\pi_{0,2} \\times P_{22} \\times P_{22} \\times P_{22} \\times P_{22}$$\n",
    "Reemplazando se obtiene:\n",
    "$$\\mathcal{L} = 0.5 \\times 0.7^4$$"
   ]
  },
  {
   "cell_type": "code",
   "execution_count": 61,
   "metadata": {},
   "outputs": [
    {
     "output_type": "execute_result",
     "data": {
      "text/plain": [
       "0.12004999999999996"
      ]
     },
     "metadata": {},
     "execution_count": 61
    }
   ],
   "source": [
    "L = 0.5 * 0.7^4;\n",
    "L"
   ]
  },
  {
   "cell_type": "markdown",
   "metadata": {},
   "source": [
    "### Problema 2"
   ]
  },
  {
   "cell_type": "markdown",
   "metadata": {},
   "source": [
    "Podemos tratar de averiguar cuál es la expresión que representa $E[y^2_{t + 1} | x_t]$. En primer lugar tenemos:\n",
    "$$E[y^2_{t + 1} | x_t = e_1] = (\\bar{y}'e_1)^2 P_{11} + (\\bar{y}'e_2)^2 P_{12}$$\n",
    "Luego tenemos:\n",
    "$$E[y^2_{t + 1} | x_t = e_2] = (\\bar{y}'e_1)^2 P_{21} + (\\bar{y}'e_2)^2 P_{22}$$"
   ]
  },
  {
   "cell_type": "markdown",
   "metadata": {},
   "source": [
    "Entonces tendríamos que:\n",
    "$$E[y^2_{t + 1} | x_t] = P \\left[\\begin{array}{c} 1 \\\\\n",
    "                                                25\\end{array}\\right]$$"
   ]
  },
  {
   "cell_type": "markdown",
   "metadata": {},
   "source": [
    "De manera análoga tendríamos que:\n",
    "$$E[y_{t + 1} | x_t] = P \\left[\\begin{array}{c} 1 \\\\ 5 \\end{array}\\right]$$"
   ]
  },
  {
   "cell_type": "markdown",
   "metadata": {},
   "source": [
    "Entonces se tendría el sistema:\n",
    "$$\\left[\\begin{array}{cc} 1.8 & 5.8 \\\\ 3.4 & 15.4 \\end{array}\\right] = P \\left[\\begin{array}{cc} 1 & 1 \\\\ 5 & 25\\end{array}\\right]$$\n",
    "$$J = Ph$$"
   ]
  },
  {
   "cell_type": "markdown",
   "metadata": {},
   "source": [
    "La solución es única si el rango de la matriz $h'$ es completo o sea 2."
   ]
  },
  {
   "cell_type": "code",
   "execution_count": 62,
   "metadata": {},
   "outputs": [],
   "source": [
    "using LinearAlgebra"
   ]
  },
  {
   "cell_type": "code",
   "execution_count": 63,
   "metadata": {},
   "outputs": [],
   "source": [
    "h = [1 1; 5 25]; J = [1.8 5.8; 3.4 15.4];"
   ]
  },
  {
   "cell_type": "code",
   "execution_count": 64,
   "metadata": {},
   "outputs": [
    {
     "output_type": "execute_result",
     "data": {
      "text/plain": [
       "2"
      ]
     },
     "metadata": {},
     "execution_count": 64
    }
   ],
   "source": [
    "rank(h')"
   ]
  },
  {
   "cell_type": "markdown",
   "metadata": {},
   "source": [
    "Entonces la matrix $P$ es única. La solución viene dada por:"
   ]
  },
  {
   "cell_type": "code",
   "execution_count": 65,
   "metadata": {},
   "outputs": [
    {
     "output_type": "execute_result",
     "data": {
      "text/plain": [
       "2×2 Adjoint{Float64,Array{Float64,2}}:\n",
       " 0.8  0.2\n",
       " 0.4  0.6"
      ]
     },
     "metadata": {},
     "execution_count": 65
    }
   ],
   "source": [
    "X = h' \\ J';\n",
    "P = X'"
   ]
  },
  {
   "cell_type": "markdown",
   "metadata": {},
   "source": [
    "### Problema 3"
   ]
  },
  {
   "cell_type": "markdown",
   "metadata": {},
   "source": [
    "a) Sabemos que:\n",
    "$$v_i = E\\left[\\sum^\\infty_{t = 0} \\beta^t u(c_t) | x_0 = \\bar{e}_i\\right] = \\sum^\\infty_{t = 0} E[\\beta^t u(c_t) | x_0 = \\bar{e}_i]$$"
   ]
  },
  {
   "cell_type": "markdown",
   "metadata": {},
   "source": [
    "Por lo tanto, nos interesa saber que expresión representa $E[\\beta^t u(c_t) | x_0 = \\bar{e}_i]$. Tenemos que:\n",
    "$$E[\\beta^t u(c_t) | x_0 = \\bar{e}_i] = \\beta^t u(\\bar{c}'\\bar{e}_1)P^{(t)}_{i1} + \\beta^t u(\\bar{c}'\\bar{e}_2)P^{(t)}_{i2} + \\dots +\\beta^t u(\\bar{c}'\\bar{e}_n)P^{(t)}_{in}$$ "
   ]
  },
  {
   "cell_type": "markdown",
   "metadata": {},
   "source": [
    "Entonces:\n",
    "$$E[\\beta^t u(c_t) | x_0 = \\bar{e}_i] = \\beta^t u_1 P^{(t)}_{i1} + \\beta^t u_2 P^{(t)}_{i2} + \\dots + \\beta^t u_n P^{(t)}_{in}$$\n",
    "Por lo que:\n",
    "$$E[\\beta^t u(c_t) | x_0] = \\beta^t P^t u$$ "
   ]
  },
  {
   "cell_type": "markdown",
   "metadata": {},
   "source": [
    "Con esto se tiene que:\n",
    "$$v = \\sum^\\infty_{t = 0} E[\\beta^t u(c_t) | x_0] = \\sum^\\infty_{t = 0} \\beta^t P^t u = (I - \\beta P)^{-1}u$$"
   ]
  },
  {
   "cell_type": "markdown",
   "metadata": {},
   "source": [
    "En cuanto a $V$ tenemos que:\n",
    "$$V = E[v] = \\pi'_0 v = \\sum^n_{i = 1} \\pi_{0,i} v_i$$"
   ]
  },
  {
   "cell_type": "markdown",
   "metadata": {},
   "source": [
    "b) Construyamos funciones para: utilidad, $v$ y $V$:"
   ]
  },
  {
   "cell_type": "code",
   "execution_count": 66,
   "metadata": {},
   "outputs": [
    {
     "output_type": "execute_result",
     "data": {
      "text/plain": [
       "u (generic function with 1 method)"
      ]
     },
     "metadata": {},
     "execution_count": 66
    }
   ],
   "source": [
    "u(c, γ) = c^(1 - γ) / (1 - γ) "
   ]
  },
  {
   "cell_type": "code",
   "execution_count": 67,
   "metadata": {},
   "outputs": [
    {
     "output_type": "execute_result",
     "data": {
      "text/plain": [
       "v (generic function with 1 method)"
      ]
     },
     "metadata": {},
     "execution_count": 67
    }
   ],
   "source": [
    "v(P, β, u) = (I - β * P)^(-1) * u"
   ]
  },
  {
   "cell_type": "code",
   "execution_count": 68,
   "metadata": {},
   "outputs": [
    {
     "output_type": "execute_result",
     "data": {
      "text/plain": [
       "V (generic function with 1 method)"
      ]
     },
     "metadata": {},
     "execution_count": 68
    }
   ],
   "source": [
    "V(π_0, v) = π_0' * v"
   ]
  },
  {
   "cell_type": "markdown",
   "metadata": {},
   "source": [
    "Construyamos el vector de utilidades en función del vector de consumo $\\bar{c} = \\left[\\begin{array}{c} 1 \\\\\n",
    "                                                                                                        5\\end{array}\\right]$ y $\\gamma = 2.5$"
   ]
  },
  {
   "cell_type": "code",
   "execution_count": 69,
   "metadata": {},
   "outputs": [
    {
     "output_type": "execute_result",
     "data": {
      "text/plain": [
       "2-element Array{Float64,1}:\n",
       " -0.6666666666666666\n",
       " -0.05962847939999439"
      ]
     },
     "metadata": {},
     "execution_count": 69
    }
   ],
   "source": [
    "c = [1, 5]; γ = 2.5;\n",
    "util = u.(c, γ)"
   ]
  },
  {
   "cell_type": "markdown",
   "metadata": {},
   "source": [
    "Consideremos el primer proceso:"
   ]
  },
  {
   "cell_type": "code",
   "execution_count": 70,
   "metadata": {},
   "outputs": [],
   "source": [
    "P = [1 0; 0 1]; π_0 = [0.5, 0.5];"
   ]
  },
  {
   "cell_type": "code",
   "execution_count": 71,
   "metadata": {},
   "outputs": [
    {
     "output_type": "execute_result",
     "data": {
      "text/plain": [
       "-7.262951460666605"
      ]
     },
     "metadata": {},
     "execution_count": 71
    }
   ],
   "source": [
    "v_val = v(P, 0.95, util);\n",
    "V_val = V(π_0, v_val)"
   ]
  },
  {
   "cell_type": "markdown",
   "metadata": {},
   "source": [
    "Consideremos el segundo proceso:"
   ]
  },
  {
   "cell_type": "code",
   "execution_count": 72,
   "metadata": {},
   "outputs": [],
   "source": [
    "P = [0.5 0.5; 0.5 0.5]; π_0 = [0.5, 0.5];"
   ]
  },
  {
   "cell_type": "code",
   "execution_count": 73,
   "metadata": {},
   "outputs": [
    {
     "output_type": "execute_result",
     "data": {
      "text/plain": [
       "-7.262951460666601"
      ]
     },
     "metadata": {},
     "execution_count": 73
    }
   ],
   "source": [
    "v_val = v(P, 0.95, util);\n",
    "V_val = V(π_0, v_val)"
   ]
  },
  {
   "cell_type": "markdown",
   "metadata": {},
   "source": [
    "Ambos procesos arrojan valores identicos $V_1 = V_2 = -7.26$ por lo que el consumidor es indiferente. Ahora analizemos el caso de $\\gamma = 4$."
   ]
  },
  {
   "cell_type": "code",
   "execution_count": 74,
   "metadata": {},
   "outputs": [
    {
     "output_type": "execute_result",
     "data": {
      "text/plain": [
       "2-element Array{Float64,1}:\n",
       " -0.3333333333333333\n",
       " -0.0026666666666666666"
      ]
     },
     "metadata": {},
     "execution_count": 74
    }
   ],
   "source": [
    "util = u.(c, 4.0)"
   ]
  },
  {
   "cell_type": "markdown",
   "metadata": {},
   "source": [
    "Consideremos el primer proceso:"
   ]
  },
  {
   "cell_type": "code",
   "execution_count": 75,
   "metadata": {},
   "outputs": [
    {
     "output_type": "execute_result",
     "data": {
      "text/plain": [
       "-3.359999999999997"
      ]
     },
     "metadata": {},
     "execution_count": 75
    }
   ],
   "source": [
    "P = [1 0; 0 1]; π_0 = [0.5, 0.5];\n",
    "v_val = v(P, 0.95, util);\n",
    "V_val = V(π_0, v_val)"
   ]
  },
  {
   "cell_type": "markdown",
   "metadata": {},
   "source": [
    "Ahora el segundo proceso:"
   ]
  },
  {
   "cell_type": "code",
   "execution_count": 76,
   "metadata": {},
   "outputs": [
    {
     "output_type": "execute_result",
     "data": {
      "text/plain": [
       "-3.359999999999996"
      ]
     },
     "metadata": {},
     "execution_count": 76
    }
   ],
   "source": [
    "P = [0.5 0.5; 0.5 0.5]; π_0 = [0.5, 0.5];\n",
    "v_val = v(P, 0.95, util);\n",
    "V_val = V(π_0, v_val)"
   ]
  },
  {
   "cell_type": "markdown",
   "metadata": {},
   "source": [
    "Nuevamente ambos procesos arrojan valores idénticos $V_1 = V_2 = -3.36$ por lo que el consumidor es indiferente."
   ]
  },
  {
   "cell_type": "markdown",
   "metadata": {},
   "source": [
    "c) Para el primer proceso la función de verosimilitud sería:\n",
    "$$Prob(data | M_1) = \\pi_{0,1} \\times P^9_{11} = 0.5 \\times 1^9$$"
   ]
  },
  {
   "cell_type": "code",
   "execution_count": 77,
   "metadata": {},
   "outputs": [
    {
     "output_type": "execute_result",
     "data": {
      "text/plain": [
       "0.5"
      ]
     },
     "metadata": {},
     "execution_count": 77
    }
   ],
   "source": [
    "L_1 = 0.5 * 1^9"
   ]
  },
  {
   "cell_type": "markdown",
   "metadata": {},
   "source": [
    "Para el segundo proceso la función de verosimilitud sería:\n",
    "$$Prob(data | M_2) = \\pi_{0,1} \\times P^9_{11} = 0.5 \\times 0.5^9 = 0.5^{10}$$"
   ]
  },
  {
   "cell_type": "code",
   "execution_count": 78,
   "metadata": {},
   "outputs": [
    {
     "output_type": "execute_result",
     "data": {
      "text/plain": [
       "0.0009765625"
      ]
     },
     "metadata": {},
     "execution_count": 78
    }
   ],
   "source": [
    "L_2 = 0.5^(10)"
   ]
  },
  {
   "cell_type": "markdown",
   "metadata": {},
   "source": [
    "d) Como las probabilidades iniciales de ambos modelos son idénticas tenemos que: $Prob(M_1) = Prob(M_2)$; por lo que:\n",
    "$$Prob(M_1 | data) = \\frac{Prob(data | M_1)}{Prob(data | M_1) + Prob(data | M_2)} = \\frac{0.5}{0.5 + 0.001}$$"
   ]
  },
  {
   "cell_type": "code",
   "execution_count": 79,
   "metadata": {},
   "outputs": [
    {
     "output_type": "execute_result",
     "data": {
      "text/plain": [
       "0.9980506822612085"
      ]
     },
     "metadata": {},
     "execution_count": 79
    }
   ],
   "source": [
    "p1_n = L_1 / (L_1 + L_2)"
   ]
  },
  {
   "cell_type": "markdown",
   "metadata": {},
   "source": [
    "Para el caso del segundo proceso tenemos:\n",
    "$$Prob(M_2 | data) = \\frac{Prob(data | M_2)}{Prob(data | M_1) + Prob(data | M_2)} = \\frac{0.001}{0.5 + 0.001}$$"
   ]
  },
  {
   "cell_type": "code",
   "execution_count": 80,
   "metadata": {},
   "outputs": [
    {
     "output_type": "execute_result",
     "data": {
      "text/plain": [
       "0.001949317738791423"
      ]
     },
     "metadata": {},
     "execution_count": 80
    }
   ],
   "source": [
    "p2_n = L_2 / (L_1 + L_2)"
   ]
  },
  {
   "cell_type": "markdown",
   "metadata": {},
   "source": [
    "e) Para la segunda muestra de datos, tenemos que:\n",
    "$$Prob(data | M_1) = \\pi_{0,1} \\times P^4_{12} \\times P^3_{21} \\times P^2_{22} = 0.5 \\times 0^4 \\times 0^3 \\times 1^2$$ "
   ]
  },
  {
   "cell_type": "code",
   "execution_count": 81,
   "metadata": {},
   "outputs": [
    {
     "output_type": "execute_result",
     "data": {
      "text/plain": [
       "0.0"
      ]
     },
     "metadata": {},
     "execution_count": 81
    }
   ],
   "source": [
    "L_1 = 0.5 * 0^4 * 0^3 * 1^2"
   ]
  },
  {
   "cell_type": "markdown",
   "metadata": {},
   "source": [
    "Para el segundo proceso tenemos:\n",
    "$$Prob(data | M_2) = \\pi_{0,1} \\times P^4_{12} \\times P^3_{21} \\times P^2_{22} = 0.5^{10}$$"
   ]
  },
  {
   "cell_type": "code",
   "execution_count": 82,
   "metadata": {},
   "outputs": [
    {
     "output_type": "execute_result",
     "data": {
      "text/plain": [
       "0.0009765625"
      ]
     },
     "metadata": {},
     "execution_count": 82
    }
   ],
   "source": [
    "L_2 = 0.5^(10)"
   ]
  },
  {
   "cell_type": "markdown",
   "metadata": {},
   "source": [
    "Tendríamos entonces que:\n",
    "$$Prob(M_1 | data) = \\frac{0}{0 + 0.001}$$"
   ]
  },
  {
   "cell_type": "code",
   "execution_count": 83,
   "metadata": {},
   "outputs": [
    {
     "output_type": "execute_result",
     "data": {
      "text/plain": [
       "0.0"
      ]
     },
     "metadata": {},
     "execution_count": 83
    }
   ],
   "source": [
    "p1_n = L_1 / (L_1 + L_2)"
   ]
  },
  {
   "cell_type": "markdown",
   "metadata": {},
   "source": [
    "Para el caso del segundo modelo:\n",
    "$$Prob(M_2 | data) = \\frac{0.001}{0 + 0.001}$$"
   ]
  },
  {
   "cell_type": "code",
   "execution_count": 84,
   "metadata": {},
   "outputs": [
    {
     "output_type": "execute_result",
     "data": {
      "text/plain": [
       "1.0"
      ]
     },
     "metadata": {},
     "execution_count": 84
    }
   ],
   "source": [
    "p2_n = L_2 / (L_1 + L_2)"
   ]
  },
  {
   "cell_type": "markdown",
   "metadata": {},
   "source": [
    "### Problema 4"
   ]
  },
  {
   "cell_type": "markdown",
   "metadata": {},
   "source": [
    "a) Tenemos el siguiente modelo univariante:\n",
    "$$y_{t + 1} = \\alpha + \\sum^4_{j = 1} \\rho_j y_{t + 1 - j} + c w_{t + 1}$$"
   ]
  },
  {
   "cell_type": "markdown",
   "metadata": {},
   "source": [
    "Podemos reesxpresarlo como:\n",
    "$$\\left[\\begin{array}{c} y_{t + 1} \\\\ y_t \\\\ y_{t - 1} \\\\ y_{t - 2} \\\\ 1\\end{array}\\right] = \\left[\\begin{array}{ccccc} \\rho_1 & \\rho_2 & \\rho_3 & \\rho_4 & \\alpha \\\\ 1 & 0 & 0 & 0 & 0 \\\\ 0 & 1 & 0 & 0 & 0 \\\\ 0 & 0 & 1 & 0 & 0 \\\\ 0 & 0 & 0 & 0 & 1 \\end{array}\\right] \\left[ \\begin{array}{c} y_t \\\\ y_{t - 1} \\\\ y_{t - 2} \\\\ y_{t - 3} \\\\ 1 \\end{array}\\right] + \\left[\\begin{array}{c} c \\\\ 0 \\\\ 0 \\\\ 0 \\\\ 0 \\end{array}\\right] w_{t + 1}$$\n",
    "$$\\mathbf{Y}_{t + 1} = \\mathbf{A}\\mathbf{Y}_t + \\mathbf{C}w_{t + 1}$$"
   ]
  },
  {
   "cell_type": "markdown",
   "metadata": {},
   "source": [
    "b) Para verificar que el proceso es estacionario, se debe verificar que los autovalores de la matriz: \n",
    "$$\\mathbf{A}_0 = \\left[ \\begin{array}{cccc} \\rho_1 & \\rho_2 & \\rho_3 & \\rho_4 \\\\ 1 & 0 & 0 & 0 \\\\ 0 & 1 & 0 & 0 \\\\ 0 & 0 & 1 & 0 \\end{array}\\right]$$\n",
    "Sean en módulo menor a 1."
   ]
  },
  {
   "cell_type": "markdown",
   "metadata": {},
   "source": [
    "i) "
   ]
  },
  {
   "cell_type": "code",
   "execution_count": 85,
   "metadata": {},
   "outputs": [],
   "source": [
    "ρ = [1.2 -0.3 0 0]; μ = 10; c = 1;"
   ]
  },
  {
   "cell_type": "code",
   "execution_count": 86,
   "metadata": {},
   "outputs": [
    {
     "output_type": "execute_result",
     "data": {
      "text/plain": [
       "4-element Array{Float64,1}:\n",
       " 0.0\n",
       " 0.0\n",
       " 0.35505102572168223\n",
       " 0.8449489742783177"
      ]
     },
     "metadata": {},
     "execution_count": 86
    }
   ],
   "source": [
    "A_0 = [ρ; 1 0 0 0; 0 1 0 0; 0 0 1 0];\n",
    "evals, evec = eigen(A_0);\n",
    "abs.(evals)"
   ]
  },
  {
   "cell_type": "markdown",
   "metadata": {},
   "source": [
    "Como todos los autovalores son inferiores a la unidad en módulo, tenemos que el proceso es estacionario. La media del proceso vendría dada por el autovector asociado al autovalor unitario de la matriz $\\mathbf{A}$:"
   ]
  },
  {
   "cell_type": "code",
   "execution_count": 87,
   "metadata": {},
   "outputs": [
    {
     "output_type": "execute_result",
     "data": {
      "text/plain": [
       "5-element Array{Float64,1}:\n",
       " 0.0\n",
       " 0.0\n",
       " 0.35505102572168223\n",
       " 0.8449489742783177\n",
       " 1.0"
      ]
     },
     "metadata": {},
     "execution_count": 87
    }
   ],
   "source": [
    "α = μ * (1 - sum(ρ));\n",
    "A = [ρ α; 1 0 0 0 0; 0 1 0 0 0; 0 0 1 0 0; 0 0 0 0 1];\n",
    "evals, evec = eigen(A);\n",
    "abs.(evals)"
   ]
  },
  {
   "cell_type": "code",
   "execution_count": 88,
   "metadata": {},
   "outputs": [
    {
     "output_type": "execute_result",
     "data": {
      "text/plain": [
       "5×5 Array{Float64,2}:\n",
       " 0.0   0.0           -0.0418473  -0.375014  0.499376\n",
       " 0.0   0.0           -0.117863   -0.44383   0.499376\n",
       " 0.0   5.01042e-292  -0.33196    -0.525274  0.499376\n",
       " 1.0  -1.0           -0.934965   -0.621664  0.499376\n",
       " 0.0   0.0            0.0         0.0       0.0499376"
      ]
     },
     "metadata": {},
     "execution_count": 88
    }
   ],
   "source": [
    "evec"
   ]
  },
  {
   "cell_type": "code",
   "execution_count": 89,
   "metadata": {},
   "outputs": [
    {
     "output_type": "execute_result",
     "data": {
      "text/plain": [
       "5-element Array{Float64,1}:\n",
       " 10.000000000000005\n",
       " 10.000000000000007\n",
       " 10.000000000000007\n",
       " 10.000000000000007\n",
       "  1.0"
      ]
     },
     "metadata": {},
     "execution_count": 89
    }
   ],
   "source": [
    "μ_Y = evec[:, 5] ./ evec[5,5]"
   ]
  },
  {
   "cell_type": "markdown",
   "metadata": {},
   "source": [
    "Como $y_t = J\\mathbf{Y}_t$ donde $J = [\\begin{array}{ccccc} 1 & 0 & 0 & 0 & 0 \\end{array}]$. Tenemos que $\\mu_y = J\\mu_Y$. Entonces:"
   ]
  },
  {
   "cell_type": "code",
   "execution_count": 90,
   "metadata": {},
   "outputs": [
    {
     "output_type": "execute_result",
     "data": {
      "text/plain": [
       "1-element Array{Float64,1}:\n",
       " 10.000000000000005"
      ]
     },
     "metadata": {},
     "execution_count": 90
    }
   ],
   "source": [
    "J = [1 0 0 0 0]; \n",
    "μ_y = J * μ_Y"
   ]
  },
  {
   "cell_type": "markdown",
   "metadata": {},
   "source": [
    "Entonces la media del proceso $\\mu_y = 10$. Ahora para la varianza del proceso $C_Y(0)$ utilizamos la ecuación de lyapunov:\n",
    "$$C_Y(0) = \\mathbf{A} C_Y(0) \\mathbf{A}' + \\mathbf{CC'}$$"
   ]
  },
  {
   "cell_type": "code",
   "execution_count": 91,
   "metadata": {},
   "outputs": [],
   "source": [
    "C = [c, 0, 0, 0, 0];\n",
    "C_C = C * C';"
   ]
  },
  {
   "cell_type": "markdown",
   "metadata": {},
   "source": [
    "Codificaremos la función utilizada por Thomas Sargent en MATLAB:"
   ]
  },
  {
   "cell_type": "code",
   "execution_count": 92,
   "metadata": {},
   "outputs": [
    {
     "output_type": "execute_result",
     "data": {
      "text/plain": [
       "doublej (generic function with 1 method)"
      ]
     },
     "metadata": {},
     "execution_count": 92
    }
   ],
   "source": [
    "function doublej(a1, b1)\n",
    "    A_0 = a1\n",
    "    G_0 = b1\n",
    "    diff = 5; ijk = 1;\n",
    "    while diff > 1e-15 \n",
    "       A_1 = A_0 * A_0\n",
    "       G_1 = G_0 + A_0 * G_0 * A_0'\n",
    "       aux = maximum(maximum(abs.(G_1 - G_0), dims = 1), dims = 2)\n",
    "       diff = aux[1] \n",
    "       G_0 = G_1\n",
    "       A_0 = A_1\n",
    "       ijk += 1 \n",
    "    end\n",
    "    return G_0\n",
    "end"
   ]
  },
  {
   "cell_type": "code",
   "execution_count": 93,
   "metadata": {},
   "outputs": [
    {
     "output_type": "execute_result",
     "data": {
      "text/plain": [
       "5×5 Array{Float64,2}:\n",
       " 7.42857  6.85714  6.0      5.14286  0.0\n",
       " 6.85714  7.42857  6.85714  6.0      0.0\n",
       " 6.0      6.85714  7.42857  6.85714  0.0\n",
       " 5.14286  6.0      6.85714  7.42857  0.0\n",
       " 0.0      0.0      0.0      0.0      0.0"
      ]
     },
     "metadata": {},
     "execution_count": 93
    }
   ],
   "source": [
    "X = doublej(A, C_C)"
   ]
  },
  {
   "cell_type": "markdown",
   "metadata": {},
   "source": [
    "Tenemos que $C_y(0) = J C_Y(0) J'$; por lo tanto: "
   ]
  },
  {
   "cell_type": "code",
   "execution_count": 94,
   "metadata": {},
   "outputs": [
    {
     "output_type": "execute_result",
     "data": {
      "text/plain": [
       "1×1 Array{Float64,2}:\n",
       " 7.428571428571427"
      ]
     },
     "metadata": {},
     "execution_count": 94
    }
   ],
   "source": [
    "C_y = J * X * J'"
   ]
  },
  {
   "cell_type": "markdown",
   "metadata": {},
   "source": [
    "Entonces $Var_y = 7.43$."
   ]
  },
  {
   "cell_type": "markdown",
   "metadata": {},
   "source": [
    "ii)"
   ]
  },
  {
   "cell_type": "code",
   "execution_count": 95,
   "metadata": {},
   "outputs": [],
   "source": [
    "ρ = [1.2 -0.3 0 0]; μ = 10; c = 2;"
   ]
  },
  {
   "cell_type": "code",
   "execution_count": 96,
   "metadata": {},
   "outputs": [
    {
     "output_type": "execute_result",
     "data": {
      "text/plain": [
       "4-element Array{Float64,1}:\n",
       " 0.0\n",
       " 0.0\n",
       " 0.35505102572168223\n",
       " 0.8449489742783177"
      ]
     },
     "metadata": {},
     "execution_count": 96
    }
   ],
   "source": [
    "A_0 = [ρ; 1 0 0 0; 0 1 0 0; 0 0 1 0];\n",
    "evals, evec = eigen(A_0);\n",
    "abs.(evals)"
   ]
  },
  {
   "cell_type": "markdown",
   "metadata": {},
   "source": [
    "El proceso es estacionario. Calculamos la media del proceso como el autovector asociado al autovalor unitario de la matriz $\\mathbf{A}$."
   ]
  },
  {
   "cell_type": "code",
   "execution_count": 97,
   "metadata": {},
   "outputs": [
    {
     "output_type": "execute_result",
     "data": {
      "text/plain": [
       "5-element Array{Float64,1}:\n",
       " 0.0\n",
       " 0.0\n",
       " 0.35505102572168223\n",
       " 0.8449489742783177\n",
       " 1.0"
      ]
     },
     "metadata": {},
     "execution_count": 97
    }
   ],
   "source": [
    "α = μ * (1 - sum(ρ));\n",
    "A = [ρ α; 1 0 0 0 0; 0 1 0 0 0; 0 0 1 0 0; 0 0 0 0 1];\n",
    "evals, evec = eigen(A);\n",
    "abs.(evals)"
   ]
  },
  {
   "cell_type": "code",
   "execution_count": 98,
   "metadata": {},
   "outputs": [
    {
     "output_type": "execute_result",
     "data": {
      "text/plain": [
       "5-element Array{Float64,1}:\n",
       " 10.000000000000005\n",
       " 10.000000000000007\n",
       " 10.000000000000007\n",
       " 10.000000000000007\n",
       "  1.0"
      ]
     },
     "metadata": {},
     "execution_count": 98
    }
   ],
   "source": [
    "μ_Y = evec[:, 5] ./ evec[5,5]"
   ]
  },
  {
   "cell_type": "code",
   "execution_count": 99,
   "metadata": {},
   "outputs": [
    {
     "output_type": "execute_result",
     "data": {
      "text/plain": [
       "1-element Array{Float64,1}:\n",
       " 10.000000000000005"
      ]
     },
     "metadata": {},
     "execution_count": 99
    }
   ],
   "source": [
    "J = [1 0 0 0 0]; \n",
    "μ_y = J * μ_Y"
   ]
  },
  {
   "cell_type": "markdown",
   "metadata": {},
   "source": [
    "La media del proceso $\\mu_y = 10$. Ahora calculamos la varianza:"
   ]
  },
  {
   "cell_type": "code",
   "execution_count": 100,
   "metadata": {},
   "outputs": [
    {
     "output_type": "execute_result",
     "data": {
      "text/plain": [
       "5×5 Array{Float64,2}:\n",
       " 29.7143  27.4286  24.0     20.5714  0.0\n",
       " 27.4286  29.7143  27.4286  24.0     0.0\n",
       " 24.0     27.4286  29.7143  27.4286  0.0\n",
       " 20.5714  24.0     27.4286  29.7143  0.0\n",
       "  0.0      0.0      0.0      0.0     0.0"
      ]
     },
     "metadata": {},
     "execution_count": 100
    }
   ],
   "source": [
    "C = [c, 0, 0, 0, 0];\n",
    "C_C = C * C';\n",
    "X = doublej(A, C_C)"
   ]
  },
  {
   "cell_type": "code",
   "execution_count": 101,
   "metadata": {},
   "outputs": [
    {
     "output_type": "execute_result",
     "data": {
      "text/plain": [
       "1×1 Array{Float64,2}:\n",
       " 29.714285714285708"
      ]
     },
     "metadata": {},
     "execution_count": 101
    }
   ],
   "source": [
    "C_y = J * X * J'"
   ]
  },
  {
   "cell_type": "markdown",
   "metadata": {},
   "source": [
    "Entonces $Var_y = 29.71$."
   ]
  },
  {
   "cell_type": "markdown",
   "metadata": {},
   "source": [
    "iii)"
   ]
  },
  {
   "cell_type": "code",
   "execution_count": 102,
   "metadata": {},
   "outputs": [],
   "source": [
    "ρ = [.9 0 0 0]; μ = 5; c = 1;"
   ]
  },
  {
   "cell_type": "code",
   "execution_count": 103,
   "metadata": {},
   "outputs": [
    {
     "output_type": "execute_result",
     "data": {
      "text/plain": [
       "4-element Array{Float64,1}:\n",
       " 0.0\n",
       " 0.0\n",
       " 0.0\n",
       " 0.9"
      ]
     },
     "metadata": {},
     "execution_count": 103
    }
   ],
   "source": [
    "A_0 = [ρ; 1 0 0 0; 0 1 0 0; 0 0 1 0];\n",
    "evals, evec = eigen(A_0);\n",
    "abs.(evals)"
   ]
  },
  {
   "cell_type": "markdown",
   "metadata": {},
   "source": [
    "El proceso es estacionario. Calculamos la media del proceso:"
   ]
  },
  {
   "cell_type": "code",
   "execution_count": 104,
   "metadata": {},
   "outputs": [
    {
     "output_type": "execute_result",
     "data": {
      "text/plain": [
       "5-element Array{Float64,1}:\n",
       " 0.0\n",
       " 0.0\n",
       " 0.0\n",
       " 0.9\n",
       " 1.0"
      ]
     },
     "metadata": {},
     "execution_count": 104
    }
   ],
   "source": [
    "α = μ * (1 - sum(ρ));\n",
    "A = [ρ α; 1 0 0 0 0; 0 1 0 0 0; 0 0 1 0 0; 0 0 0 0 1];\n",
    "evals, evec = eigen(A);\n",
    "abs.(evals)"
   ]
  },
  {
   "cell_type": "code",
   "execution_count": 105,
   "metadata": {},
   "outputs": [
    {
     "output_type": "execute_result",
     "data": {
      "text/plain": [
       "5-element Array{Float64,1}:\n",
       " 5.0\n",
       " 5.0\n",
       " 5.0\n",
       " 5.0\n",
       " 1.0"
      ]
     },
     "metadata": {},
     "execution_count": 105
    }
   ],
   "source": [
    "μ_Y = evec[:, 5] ./ evec[5,5]"
   ]
  },
  {
   "cell_type": "code",
   "execution_count": 106,
   "metadata": {},
   "outputs": [
    {
     "output_type": "execute_result",
     "data": {
      "text/plain": [
       "1-element Array{Float64,1}:\n",
       " 5.0"
      ]
     },
     "metadata": {},
     "execution_count": 106
    }
   ],
   "source": [
    "J = [1 0 0 0 0]; \n",
    "μ_y = J * μ_Y"
   ]
  },
  {
   "cell_type": "markdown",
   "metadata": {},
   "source": [
    "La media del proceso es $\\mu_y = 5$. Ahora calculamos la varianza:"
   ]
  },
  {
   "cell_type": "code",
   "execution_count": 107,
   "metadata": {},
   "outputs": [
    {
     "output_type": "execute_result",
     "data": {
      "text/plain": [
       "5×5 Array{Float64,2}:\n",
       " 5.26316  4.73684  4.26316  3.83684  0.0\n",
       " 4.73684  5.26316  4.73684  4.26316  0.0\n",
       " 4.26316  4.73684  5.26316  4.73684  0.0\n",
       " 3.83684  4.26316  4.73684  5.26316  0.0\n",
       " 0.0      0.0      0.0      0.0      0.0"
      ]
     },
     "metadata": {},
     "execution_count": 107
    }
   ],
   "source": [
    "C = [c, 0, 0, 0, 0];\n",
    "C_C = C * C';\n",
    "X = doublej(A, C_C)"
   ]
  },
  {
   "cell_type": "code",
   "execution_count": 108,
   "metadata": {},
   "outputs": [
    {
     "output_type": "execute_result",
     "data": {
      "text/plain": [
       "1×1 Array{Float64,2}:\n",
       " 5.263157894736844"
      ]
     },
     "metadata": {},
     "execution_count": 108
    }
   ],
   "source": [
    "C_y = J * X * J'"
   ]
  },
  {
   "cell_type": "markdown",
   "metadata": {},
   "source": [
    "Entonces $Var_y = 5.26$."
   ]
  },
  {
   "cell_type": "markdown",
   "metadata": {},
   "source": [
    "iv) "
   ]
  },
  {
   "cell_type": "code",
   "execution_count": 109,
   "metadata": {},
   "outputs": [],
   "source": [
    "ρ = [.2 0 0 .5]; μ = 5; c = 1;"
   ]
  },
  {
   "cell_type": "code",
   "execution_count": 110,
   "metadata": {},
   "outputs": [
    {
     "output_type": "execute_result",
     "data": {
      "text/plain": [
       "4-element Array{Float64,1}:\n",
       " 0.7950219427055532\n",
       " 0.8379288196679984\n",
       " 0.8379288196679984\n",
       " 0.8957289964623478"
      ]
     },
     "metadata": {},
     "execution_count": 110
    }
   ],
   "source": [
    "A_0 = [ρ; 1 0 0 0; 0 1 0 0; 0 0 1 0];\n",
    "evals, evec = eigen(A_0);\n",
    "abs.(evals)"
   ]
  },
  {
   "cell_type": "markdown",
   "metadata": {},
   "source": [
    "El proceso es estacionario. Ahora calculamos la media del proceso:"
   ]
  },
  {
   "cell_type": "code",
   "execution_count": 111,
   "metadata": {},
   "outputs": [
    {
     "output_type": "execute_result",
     "data": {
      "text/plain": [
       "5-element Array{Float64,1}:\n",
       " 0.7950219427055532\n",
       " 0.8379288196679984\n",
       " 0.8379288196679984\n",
       " 0.8957289964623478\n",
       " 1.0"
      ]
     },
     "metadata": {},
     "execution_count": 111
    }
   ],
   "source": [
    "α = μ * (1 - sum(ρ));\n",
    "A = [ρ α; 1 0 0 0 0; 0 1 0 0 0; 0 0 1 0 0; 0 0 0 0 1];\n",
    "evals, evec = eigen(A);\n",
    "abs.(evals)"
   ]
  },
  {
   "cell_type": "code",
   "execution_count": 112,
   "metadata": {},
   "outputs": [
    {
     "output_type": "execute_result",
     "data": {
      "text/plain": [
       "5-element Array{Complex{Float64},1}:\n",
       "  5.000000000000029 + 0.0im\n",
       " 5.0000000000000275 + 0.0im\n",
       "   5.00000000000003 + 0.0im\n",
       "   5.00000000000004 + 0.0im\n",
       " 0.9999999999999999 + 0.0im"
      ]
     },
     "metadata": {},
     "execution_count": 112
    }
   ],
   "source": [
    "μ_Y = evec[:, 5] ./ evec[5,5]"
   ]
  },
  {
   "cell_type": "code",
   "execution_count": 113,
   "metadata": {},
   "outputs": [
    {
     "output_type": "execute_result",
     "data": {
      "text/plain": [
       "1-element Array{Complex{Float64},1}:\n",
       " 5.000000000000029 + 0.0im"
      ]
     },
     "metadata": {},
     "execution_count": 113
    }
   ],
   "source": [
    "J = [1 0 0 0 0]; \n",
    "μ_y = J * μ_Y"
   ]
  },
  {
   "cell_type": "markdown",
   "metadata": {},
   "source": [
    "La media del proceso es $\\mu_y = 5$. Ahora calculamos la varianza:"
   ]
  },
  {
   "cell_type": "code",
   "execution_count": 114,
   "metadata": {},
   "outputs": [
    {
     "output_type": "execute_result",
     "data": {
      "text/plain": [
       "5×5 Array{Float64,2}:\n",
       " 1.4764    0.415887  0.166355  0.241214  0.0\n",
       " 0.415887  1.4764    0.415887  0.166355  0.0\n",
       " 0.166355  0.415887  1.4764    0.415887  0.0\n",
       " 0.241214  0.166355  0.415887  1.4764    0.0\n",
       " 0.0       0.0       0.0       0.0       0.0"
      ]
     },
     "metadata": {},
     "execution_count": 114
    }
   ],
   "source": [
    "C = [c, 0, 0, 0, 0];\n",
    "C_C = C * C';\n",
    "X = doublej(A, C_C)"
   ]
  },
  {
   "cell_type": "code",
   "execution_count": 115,
   "metadata": {},
   "outputs": [
    {
     "output_type": "execute_result",
     "data": {
      "text/plain": [
       "1×1 Array{Float64,2}:\n",
       " 1.4763984196298612"
      ]
     },
     "metadata": {},
     "execution_count": 115
    }
   ],
   "source": [
    "C_y = J * X * J'"
   ]
  },
  {
   "cell_type": "markdown",
   "metadata": {},
   "source": [
    "La varianza del proceso es $Var_y = 1.47$."
   ]
  },
  {
   "cell_type": "markdown",
   "metadata": {},
   "source": [
    "v)"
   ]
  },
  {
   "cell_type": "code",
   "execution_count": 116,
   "metadata": {},
   "outputs": [],
   "source": [
    "ρ = [.8 .3 0 0]; μ = 5; c = 1;"
   ]
  },
  {
   "cell_type": "code",
   "execution_count": 117,
   "metadata": {},
   "outputs": [
    {
     "output_type": "execute_result",
     "data": {
      "text/plain": [
       "4-element Array{Float64,1}:\n",
       " 0.2782329983125267\n",
       " 0.0\n",
       " 0.0\n",
       " 1.078232998312527"
      ]
     },
     "metadata": {},
     "execution_count": 117
    }
   ],
   "source": [
    "A_0 = [ρ; 1 0 0 0; 0 1 0 0; 0 0 1 0];\n",
    "evals, evec = eigen(A_0);\n",
    "abs.(evals)"
   ]
  },
  {
   "cell_type": "markdown",
   "metadata": {},
   "source": [
    "El proceso no es estacionario por lo que no podemos calcular la media del proceso ni la varianza del proceso."
   ]
  },
  {
   "cell_type": "markdown",
   "metadata": {},
   "source": [
    "c) Lo que se busca es:\n",
    "$$y_{t + 5} = \\gamma_0 + \\sum^3_{j = 0}h_j y_{t - j} + w_{t + 5}$$\n",
    "Para los incisos i), ii), iii) y iv) los procesos son estacionarios y nos enfocamos sólo en ellos; entonces tenemos:\n",
    "$$\\mu = \\gamma_0 + \\sum^3_{j = 0}h_j \\mu$$\n",
    "Por lo que:\n",
    "$$y_{t + 5} - \\mu = \\sum^3_{j = 0}h_j (y_{t - j} - \\mu) + w_{t + 5}$$\n",
    "Lo que vendría a ser una proyección lineal de $y_{t + 5} - \\mu$ en $\\mathbf{X}_t = \\left[\\begin{array}{c} y_t - \\mu \\\\ y_{t - 1} - \\mu \\\\ y_{t - 2} - \\mu \\\\ y_{t - 3} - \\mu \\end{array}\\right]$. Por lo tanto:\n",
    "$$h = E((y_{t + 5} - \\mu)\\mathbf{X}_t')[E(\\mathbf{X_t X_t'})]^{-1}$$"
   ]
  },
  {
   "cell_type": "markdown",
   "metadata": {},
   "source": [
    "La expresión $E((y_{t + 5} - \\mu)\\mathbf{X}_t')$ sería igual a:\n",
    "$$E((y_{t + 5} - \\mu)\\mathbf{X}_t') = JE(\\mathbf{X}_{t + 5}\\mathbf{X}_t') = J C_Y(5) = J \\mathbf{A}^5 C_Y(0)$$"
   ]
  },
  {
   "cell_type": "markdown",
   "metadata": {},
   "source": [
    "De esta última expresión sólo tomamos los 4 primeros valores. Para calcular $E(\\mathbf{X_tX_t'})$ tomamos las 4 primeras filas y 4 primeras columnas de la matriz $C_Y(0)$. Finalmente para calcular $\\gamma_0 = \\mu(1 - \\sum^3_{j = 0}h_j)$."
   ]
  },
  {
   "cell_type": "markdown",
   "metadata": {},
   "source": [
    "i)"
   ]
  },
  {
   "cell_type": "code",
   "execution_count": 118,
   "metadata": {},
   "outputs": [],
   "source": [
    "ρ = [1.2 -.3 0 0]; μ = 10; c = 1;"
   ]
  },
  {
   "cell_type": "code",
   "execution_count": 119,
   "metadata": {},
   "outputs": [
    {
     "output_type": "execute_result",
     "data": {
      "text/plain": [
       "5×5 Array{Float64,2}:\n",
       " 7.42857  6.85714  6.0      5.14286  0.0\n",
       " 6.85714  7.42857  6.85714  6.0      0.0\n",
       " 6.0      6.85714  7.42857  6.85714  0.0\n",
       " 5.14286  6.0      6.85714  7.42857  0.0\n",
       " 0.0      0.0      0.0      0.0      0.0"
      ]
     },
     "metadata": {},
     "execution_count": 119
    }
   ],
   "source": [
    "α = μ * (1 - sum(ρ));\n",
    "A = [ρ α; 1 0 0 0 0; 0 1 0 0 0; 0 0 1 0 0; 0 0 0 0 1];\n",
    "C = [c, 0, 0, 0, 0];\n",
    "C_C = C * C';\n",
    "C_Y = doublej(A, C_C)"
   ]
  },
  {
   "cell_type": "code",
   "execution_count": 120,
   "metadata": {},
   "outputs": [
    {
     "output_type": "execute_result",
     "data": {
      "text/plain": [
       "1×4 Adjoint{Float64,Array{Float64,1}}:\n",
       " 0.73872  -0.26028  -3.55271e-15  1.33227e-15"
      ]
     },
     "metadata": {},
     "execution_count": 120
    }
   ],
   "source": [
    "J = [1 0 0 0 0]; \n",
    "E_y_X = J * A^5 * C_Y;\n",
    "E_y_X = E_y_X[1, 1:4];\n",
    "E_X_X = C_Y[1:4, 1:4];\n",
    "h = E_y_X' * (E_X_X)^(-1)"
   ]
  },
  {
   "cell_type": "code",
   "execution_count": 121,
   "metadata": {},
   "outputs": [
    {
     "output_type": "execute_result",
     "data": {
      "text/plain": [
       "5.215600000000014"
      ]
     },
     "metadata": {},
     "execution_count": 121
    }
   ],
   "source": [
    "γ_0 = μ * (1 - sum(h))"
   ]
  },
  {
   "source": [
    "ii)"
   ],
   "cell_type": "markdown",
   "metadata": {}
  },
  {
   "cell_type": "code",
   "execution_count": 123,
   "metadata": {},
   "outputs": [],
   "source": [
    "ρ = [1.2 -.3 0 0]; μ = 10; c = 2;"
   ]
  },
  {
   "cell_type": "code",
   "execution_count": 124,
   "metadata": {},
   "outputs": [
    {
     "output_type": "execute_result",
     "data": {
      "text/plain": [
       "5×5 Array{Float64,2}:\n",
       " 29.7143  27.4286  24.0     20.5714  0.0\n",
       " 27.4286  29.7143  27.4286  24.0     0.0\n",
       " 24.0     27.4286  29.7143  27.4286  0.0\n",
       " 20.5714  24.0     27.4286  29.7143  0.0\n",
       "  0.0      0.0      0.0      0.0     0.0"
      ]
     },
     "metadata": {},
     "execution_count": 124
    }
   ],
   "source": [
    "α = μ * (1 - sum(ρ));\n",
    "A = [ρ α; 1 0 0 0 0; 0 1 0 0 0; 0 0 1 0 0; 0 0 0 0 1];\n",
    "C = [c, 0, 0, 0, 0];\n",
    "C_C = C * C';\n",
    "C_Y = doublej(A, C_C)"
   ]
  },
  {
   "cell_type": "code",
   "execution_count": 125,
   "metadata": {},
   "outputs": [
    {
     "output_type": "execute_result",
     "data": {
      "text/plain": [
       "1×4 Adjoint{Float64,Array{Float64,1}}:\n",
       " 0.73872  -0.26028  -3.55271e-15  1.33227e-15"
      ]
     },
     "metadata": {},
     "execution_count": 125
    }
   ],
   "source": [
    "J = [1 0 0 0 0]; \n",
    "E_y_X = J * A^5 * C_Y;\n",
    "E_y_X = E_y_X[1, 1:4];\n",
    "E_X_X = C_Y[1:4, 1:4];\n",
    "h = E_y_X' * (E_X_X)^(-1)"
   ]
  },
  {
   "cell_type": "code",
   "execution_count": 126,
   "metadata": {},
   "outputs": [
    {
     "output_type": "execute_result",
     "data": {
      "text/plain": [
       "5.215600000000014"
      ]
     },
     "metadata": {},
     "execution_count": 126
    }
   ],
   "source": [
    "γ_0 = μ * (1 - sum(h))"
   ]
  },
  {
   "source": [
    "iii)"
   ],
   "cell_type": "markdown",
   "metadata": {}
  },
  {
   "cell_type": "code",
   "execution_count": 128,
   "metadata": {},
   "outputs": [],
   "source": [
    "ρ = [.9 0 0 0]; μ = 5; c = 1;"
   ]
  },
  {
   "cell_type": "code",
   "execution_count": 129,
   "metadata": {},
   "outputs": [
    {
     "output_type": "execute_result",
     "data": {
      "text/plain": [
       "5×5 Array{Float64,2}:\n",
       " 5.26316  4.73684  4.26316  3.83684  0.0\n",
       " 4.73684  5.26316  4.73684  4.26316  0.0\n",
       " 4.26316  4.73684  5.26316  4.73684  0.0\n",
       " 3.83684  4.26316  4.73684  5.26316  0.0\n",
       " 0.0      0.0      0.0      0.0      0.0"
      ]
     },
     "metadata": {},
     "execution_count": 129
    }
   ],
   "source": [
    "α = μ * (1 - sum(ρ));\n",
    "A = [ρ α; 1 0 0 0 0; 0 1 0 0 0; 0 0 1 0 0; 0 0 0 0 1];\n",
    "C = [c, 0, 0, 0, 0];\n",
    "C_C = C * C';\n",
    "C_Y = doublej(A, C_C)"
   ]
  },
  {
   "cell_type": "code",
   "execution_count": 130,
   "metadata": {},
   "outputs": [
    {
     "output_type": "execute_result",
     "data": {
      "text/plain": [
       "1×4 Adjoint{Float64,Array{Float64,1}}:\n",
       " 0.59049  8.88178e-16  -8.88178e-16  0.0"
      ]
     },
     "metadata": {},
     "execution_count": 130
    }
   ],
   "source": [
    "J = [1 0 0 0 0]; \n",
    "E_y_X = J * A^5 * C_Y;\n",
    "E_y_X = E_y_X[1, 1:4];\n",
    "E_X_X = C_Y[1:4, 1:4];\n",
    "h = E_y_X' * (E_X_X)^(-1)"
   ]
  },
  {
   "cell_type": "code",
   "execution_count": 131,
   "metadata": {},
   "outputs": [
    {
     "output_type": "execute_result",
     "data": {
      "text/plain": [
       "2.0475500000000024"
      ]
     },
     "metadata": {},
     "execution_count": 131
    }
   ],
   "source": [
    "γ_0 = μ * (1 - sum(h))"
   ]
  },
  {
   "source": [
    "iv)"
   ],
   "cell_type": "markdown",
   "metadata": {}
  },
  {
   "cell_type": "code",
   "execution_count": 132,
   "metadata": {},
   "outputs": [],
   "source": [
    "ρ = [.2 0 0 .5]; μ = 5; c = 1;"
   ]
  },
  {
   "cell_type": "code",
   "execution_count": 133,
   "metadata": {},
   "outputs": [
    {
     "output_type": "execute_result",
     "data": {
      "text/plain": [
       "5×5 Array{Float64,2}:\n",
       " 1.4764    0.415887  0.166355  0.241214  0.0\n",
       " 0.415887  1.4764    0.415887  0.166355  0.0\n",
       " 0.166355  0.415887  1.4764    0.415887  0.0\n",
       " 0.241214  0.166355  0.415887  1.4764    0.0\n",
       " 0.0       0.0       0.0       0.0       0.0"
      ]
     },
     "metadata": {},
     "execution_count": 133
    }
   ],
   "source": [
    "α = μ * (1 - sum(ρ));\n",
    "A = [ρ α; 1 0 0 0 0; 0 1 0 0 0; 0 0 1 0 0; 0 0 0 0 1];\n",
    "C = [c, 0, 0, 0, 0];\n",
    "C_C = C * C';\n",
    "C_Y = doublej(A, C_C)"
   ]
  },
  {
   "cell_type": "code",
   "execution_count": 134,
   "metadata": {},
   "outputs": [
    {
     "output_type": "execute_result",
     "data": {
      "text/plain": [
       "1×4 Adjoint{Float64,Array{Float64,1}}:\n",
       " 0.20032  0.02  0.004  0.2508"
      ]
     },
     "metadata": {},
     "execution_count": 134
    }
   ],
   "source": [
    "J = [1 0 0 0 0]; \n",
    "E_y_X = J * A^5 * C_Y;\n",
    "E_y_X = E_y_X[1, 1:4];\n",
    "E_X_X = C_Y[1:4, 1:4];\n",
    "h = E_y_X' * (E_X_X)^(-1)"
   ]
  },
  {
   "cell_type": "code",
   "execution_count": 135,
   "metadata": {},
   "outputs": [
    {
     "output_type": "execute_result",
     "data": {
      "text/plain": [
       "2.6244"
      ]
     },
     "metadata": {},
     "execution_count": 135
    }
   ],
   "source": [
    "γ_0 = μ * (1 - sum(h))"
   ]
  },
  {
   "source": [
    "d) Consideramos unicamente los casos i, ii, iii, y iv donde los procesos son estacionarios. Tenemos que:\n",
    "$$E_t \\sum^\\infty_{k = 0} .95^k y_{t + k} = E_t \\sum^\\infty_{k = 0} .95^k J \\mathbf{Y}_{t + k} = J \\sum^\\infty_{k = 0} .95^k A^k \\mathbf{Y}_t = J (\\mathbf{I} - .95 \\mathbf{A})^{-1}\\mathbf{Y}_t$$\n",
    "Por lo tanto:\n",
    "$$[\\begin{array}{ccccc} h_0 & h_1 & h_2 & h_3 & \\gamma_0 \\end{array}] = J(\\mathbf{I} - .95 \\mathbf{A})^{-1}$$"
   ],
   "cell_type": "markdown",
   "metadata": {}
  },
  {
   "source": [
    "i)"
   ],
   "cell_type": "markdown",
   "metadata": {}
  },
  {
   "cell_type": "code",
   "execution_count": 136,
   "metadata": {},
   "outputs": [],
   "source": [
    "ρ = [1.2 -.3 0 0]; μ = 10; c = 1;"
   ]
  },
  {
   "cell_type": "code",
   "execution_count": 137,
   "metadata": {},
   "outputs": [
    {
     "output_type": "execute_result",
     "data": {
      "text/plain": [
       "1×5 Array{Float64,2}:\n",
       " 7.64818  -2.17973  0.0  0.0  145.315"
      ]
     },
     "metadata": {},
     "execution_count": 137
    }
   ],
   "source": [
    "J = [1 0 0 0 0];\n",
    "α = μ * (1 - sum(ρ));\n",
    "A = [ρ α; 1 0 0 0 0; 0 1 0 0 0; 0 0 1 0 0; 0 0 0 0 1];\n",
    "h = J * (I - 0.95 * A)^(-1)"
   ]
  },
  {
   "source": [
    "ii)"
   ],
   "cell_type": "markdown",
   "metadata": {}
  },
  {
   "cell_type": "code",
   "execution_count": 138,
   "metadata": {},
   "outputs": [],
   "source": [
    "ρ = [1.2 -.3 0 0]; μ = 10; c = 2;"
   ]
  },
  {
   "cell_type": "code",
   "execution_count": 139,
   "metadata": {},
   "outputs": [
    {
     "output_type": "execute_result",
     "data": {
      "text/plain": [
       "1×5 Array{Float64,2}:\n",
       " 7.64818  -2.17973  0.0  0.0  145.315"
      ]
     },
     "metadata": {},
     "execution_count": 139
    }
   ],
   "source": [
    "J = [1 0 0 0 0];\n",
    "α = μ * (1 - sum(ρ));\n",
    "A = [ρ α; 1 0 0 0 0; 0 1 0 0 0; 0 0 1 0 0; 0 0 0 0 1];\n",
    "h = J * (I - 0.95 * A)^(-1)"
   ]
  },
  {
   "source": [
    "iii)"
   ],
   "cell_type": "markdown",
   "metadata": {}
  },
  {
   "cell_type": "code",
   "execution_count": 140,
   "metadata": {},
   "outputs": [],
   "source": [
    "ρ = [.9 0 0 0]; μ = 5; c = 1;"
   ]
  },
  {
   "cell_type": "code",
   "execution_count": 141,
   "metadata": {},
   "outputs": [
    {
     "output_type": "execute_result",
     "data": {
      "text/plain": [
       "1×5 Array{Float64,2}:\n",
       " 6.89655  -2.22045e-16  -2.22045e-16  0.0  65.5172"
      ]
     },
     "metadata": {},
     "execution_count": 141
    }
   ],
   "source": [
    "J = [1 0 0 0 0];\n",
    "α = μ * (1 - sum(ρ));\n",
    "A = [ρ α; 1 0 0 0 0; 0 1 0 0 0; 0 0 1 0 0; 0 0 0 0 1];\n",
    "h = J * (I - 0.95 * A)^(-1)"
   ]
  },
  {
   "source": [
    "iv)"
   ],
   "cell_type": "markdown",
   "metadata": {}
  },
  {
   "cell_type": "code",
   "execution_count": 142,
   "metadata": {},
   "outputs": [],
   "source": [
    "ρ = [.2 0 0 .5]; μ = 5; c = 1;"
   ]
  },
  {
   "cell_type": "code",
   "execution_count": 143,
   "metadata": {},
   "outputs": [
    {
     "output_type": "execute_result",
     "data": {
      "text/plain": [
       "1×5 Array{Float64,2}:\n",
       " 2.48295  1.06441  1.12043  1.1794  70.7641"
      ]
     },
     "metadata": {},
     "execution_count": 143
    }
   ],
   "source": [
    "J = [1 0 0 0 0];\n",
    "α = μ * (1 - sum(ρ));\n",
    "A = [ρ α; 1 0 0 0 0; 0 1 0 0 0; 0 0 1 0 0; 0 0 0 0 1];\n",
    "h = J * (I - 0.95 * A)^(-1)"
   ]
  },
  {
   "source": [
    "La k-ésima autocovarianza viene dada por:\n",
    "$$E(y_t - \\mu)(y_{t - k} - \\mu) = C_y(k) = JC_Y(k)J' = J A^k C_Y(0) J'$$"
   ],
   "cell_type": "markdown",
   "metadata": {}
  },
  {
   "source": [
    "Consideramos sólo los casos estacionarios i, ii, iii y iv."
   ],
   "cell_type": "markdown",
   "metadata": {}
  },
  {
   "source": [
    "i)"
   ],
   "cell_type": "markdown",
   "metadata": {}
  },
  {
   "cell_type": "code",
   "execution_count": 144,
   "metadata": {},
   "outputs": [],
   "source": [
    "ρ = [1.2 -.3 0 0]; μ = 10; c = 1;"
   ]
  },
  {
   "cell_type": "code",
   "execution_count": 145,
   "metadata": {},
   "outputs": [
    {
     "output_type": "execute_result",
     "data": {
      "text/plain": [
       "5×5 Array{Float64,2}:\n",
       " 7.42857  6.85714  6.0      5.14286  0.0\n",
       " 6.85714  7.42857  6.85714  6.0      0.0\n",
       " 6.0      6.85714  7.42857  6.85714  0.0\n",
       " 5.14286  6.0      6.85714  7.42857  0.0\n",
       " 0.0      0.0      0.0      0.0      0.0"
      ]
     },
     "metadata": {},
     "execution_count": 145
    }
   ],
   "source": [
    "α = μ * (1 - sum(ρ));\n",
    "A = [ρ α; 1 0 0 0 0; 0 1 0 0 0; 0 0 1 0 0; 0 0 0 0 1];\n",
    "C = [c, 0, 0, 0, 0];\n",
    "C_C = C * C';\n",
    "C_Y = doublej(A, C_C)"
   ]
  },
  {
   "cell_type": "code",
   "execution_count": 146,
   "metadata": {},
   "outputs": [
    {
     "output_type": "execute_result",
     "data": {
      "text/plain": [
       "1×3 Array{Float64,2}:\n",
       " 6.85714  3.70286  1.59758"
      ]
     },
     "metadata": {},
     "execution_count": 146
    }
   ],
   "source": [
    "J = [1 0 0 0 0];\n",
    "C_y_1 = J * A * C_Y * J';\n",
    "C_y_5 = J * A^5 * C_Y * J';\n",
    "C_y_10 = J * A^10 * C_Y * J';\n",
    "autocov = [C_y_1 C_y_5 C_y_10]"
   ]
  },
  {
   "source": [
    "ii)"
   ],
   "cell_type": "markdown",
   "metadata": {}
  },
  {
   "cell_type": "code",
   "execution_count": 147,
   "metadata": {},
   "outputs": [],
   "source": [
    "ρ = [1.2 -.3 0 0]; μ = 10; c = 2;"
   ]
  },
  {
   "cell_type": "code",
   "execution_count": 148,
   "metadata": {},
   "outputs": [
    {
     "output_type": "execute_result",
     "data": {
      "text/plain": [
       "5×5 Array{Float64,2}:\n",
       " 29.7143  27.4286  24.0     20.5714  0.0\n",
       " 27.4286  29.7143  27.4286  24.0     0.0\n",
       " 24.0     27.4286  29.7143  27.4286  0.0\n",
       " 20.5714  24.0     27.4286  29.7143  0.0\n",
       "  0.0      0.0      0.0      0.0     0.0"
      ]
     },
     "metadata": {},
     "execution_count": 148
    }
   ],
   "source": [
    "α = μ * (1 - sum(ρ));\n",
    "A = [ρ α; 1 0 0 0 0; 0 1 0 0 0; 0 0 1 0 0; 0 0 0 0 1];\n",
    "C = [c, 0, 0, 0, 0];\n",
    "C_C = C * C';\n",
    "C_Y = doublej(A, C_C)"
   ]
  },
  {
   "cell_type": "code",
   "execution_count": 149,
   "metadata": {},
   "outputs": [
    {
     "output_type": "execute_result",
     "data": {
      "text/plain": [
       "1×3 Array{Float64,2}:\n",
       " 27.4286  14.8114  6.39032"
      ]
     },
     "metadata": {},
     "execution_count": 149
    }
   ],
   "source": [
    "J = [1 0 0 0 0];\n",
    "C_y_1 = J * A * C_Y * J';\n",
    "C_y_5 = J * A^5 * C_Y * J';\n",
    "C_y_10 = J * A^10 * C_Y * J';\n",
    "autocov = [C_y_1 C_y_5 C_y_10]"
   ]
  },
  {
   "source": [
    "iii)"
   ],
   "cell_type": "markdown",
   "metadata": {}
  },
  {
   "cell_type": "code",
   "execution_count": 150,
   "metadata": {},
   "outputs": [],
   "source": [
    "ρ = [.9 0 0 0]; μ = 5; c = 1;"
   ]
  },
  {
   "cell_type": "code",
   "execution_count": 151,
   "metadata": {},
   "outputs": [
    {
     "output_type": "execute_result",
     "data": {
      "text/plain": [
       "5×5 Array{Float64,2}:\n",
       " 5.26316  4.73684  4.26316  3.83684  0.0\n",
       " 4.73684  5.26316  4.73684  4.26316  0.0\n",
       " 4.26316  4.73684  5.26316  4.73684  0.0\n",
       " 3.83684  4.26316  4.73684  5.26316  0.0\n",
       " 0.0      0.0      0.0      0.0      0.0"
      ]
     },
     "metadata": {},
     "execution_count": 151
    }
   ],
   "source": [
    "α = μ * (1 - sum(ρ));\n",
    "A = [ρ α; 1 0 0 0 0; 0 1 0 0 0; 0 0 1 0 0; 0 0 0 0 1];\n",
    "C = [c, 0, 0, 0, 0];\n",
    "C_C = C * C';\n",
    "C_Y = doublej(A, C_C)"
   ]
  },
  {
   "cell_type": "code",
   "execution_count": 152,
   "metadata": {},
   "outputs": [
    {
     "output_type": "execute_result",
     "data": {
      "text/plain": [
       "1×3 Array{Float64,2}:\n",
       " 4.73684  3.10784  1.83515"
      ]
     },
     "metadata": {},
     "execution_count": 152
    }
   ],
   "source": [
    "J = [1 0 0 0 0];\n",
    "C_y_1 = J * A * C_Y * J';\n",
    "C_y_5 = J * A^5 * C_Y * J';\n",
    "C_y_10 = J * A^10 * C_Y * J';\n",
    "autocov = [C_y_1 C_y_5 C_y_10]"
   ]
  },
  {
   "source": [
    "iv)"
   ],
   "cell_type": "markdown",
   "metadata": {}
  },
  {
   "cell_type": "code",
   "execution_count": 155,
   "metadata": {},
   "outputs": [],
   "source": [
    "ρ = [.2 0 0 .5]; μ = 5; c = 1;"
   ]
  },
  {
   "cell_type": "code",
   "execution_count": 156,
   "metadata": {},
   "outputs": [
    {
     "output_type": "execute_result",
     "data": {
      "text/plain": [
       "5×5 Array{Float64,2}:\n",
       " 1.4764    0.415887  0.166355  0.241214  0.0\n",
       " 0.415887  1.4764    0.415887  0.166355  0.0\n",
       " 0.166355  0.415887  1.4764    0.415887  0.0\n",
       " 0.241214  0.166355  0.415887  1.4764    0.0\n",
       " 0.0       0.0       0.0       0.0       0.0"
      ]
     },
     "metadata": {},
     "execution_count": 156
    }
   ],
   "source": [
    "α = μ * (1 - sum(ρ));\n",
    "A = [ρ α; 1 0 0 0 0; 0 1 0 0 0; 0 0 1 0 0; 0 0 0 0 1];\n",
    "C = [c, 0, 0, 0, 0];\n",
    "C_C = C * C';\n",
    "C_Y = doublej(A, C_C)"
   ]
  },
  {
   "cell_type": "code",
   "execution_count": 157,
   "metadata": {},
   "outputs": [
    {
     "output_type": "execute_result",
     "data": {
      "text/plain": [
       "1×3 Array{Float64,2}:\n",
       " 0.415887  0.365232  0.131579"
      ]
     },
     "metadata": {},
     "execution_count": 157
    }
   ],
   "source": [
    "J = [1 0 0 0 0];\n",
    "C_y_1 = J * A * C_Y * J';\n",
    "C_y_5 = J * A^5 * C_Y * J';\n",
    "C_y_10 = J * A^10 * C_Y * J';\n",
    "autocov = [C_y_1 C_y_5 C_y_10]"
   ]
  },
  {
   "cell_type": "code",
   "execution_count": null,
   "metadata": {},
   "outputs": [],
   "source": []
  }
 ],
 "metadata": {
  "kernelspec": {
   "display_name": "Julia 1.5.0",
   "language": "julia",
   "name": "julia-1.5"
  },
  "language_info": {
   "file_extension": ".jl",
   "mimetype": "application/julia",
   "name": "julia",
   "version": "1.5.0"
  }
 },
 "nbformat": 4,
 "nbformat_minor": 4
}